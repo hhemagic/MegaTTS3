{
  "nbformat": 4,
  "nbformat_minor": 0,
  "metadata": {
    "colab": {
      "provenance": [],
      "gpuType": "T4",
      "include_colab_link": true
    },
    "kernelspec": {
      "name": "python3",
      "display_name": "Python 3"
    },
    "language_info": {
      "name": "python"
    },
    "accelerator": "GPU"
  },
  "cells": [
    {
      "cell_type": "markdown",
      "metadata": {
        "id": "view-in-github",
        "colab_type": "text"
      },
      "source": [
        "<a href=\"https://colab.research.google.com/github/hhemagic/MegaTTS3/blob/main/notebooks/CosyVoice.ipynb\" target=\"_parent\"><img src=\"https://colab.research.google.com/assets/colab-badge.svg\" alt=\"Open In Colab\"/></a>"
      ]
    },
    {
      "cell_type": "code",
      "source": [
        "#@title 一键运行 CosyVoice\n",
        "!git clone --recursive https://github.com/KevinWang676/CosyVoice.git\n",
        "%cd CosyVoice\n",
        "!pip install -r requirements.txt\n",
        "!mkdir -p pretrained_models\n",
        "!git clone https://www.modelscope.cn/iic/CosyVoice-300M.git pretrained_models/CosyVoice-300M\n",
        "!export PYTHONPATH=third_party/Matcha-TTS\n",
        "!python3 webui_colab.py\n"
      ],
      "metadata": {
        "id": "lAEyVebGqnzS",
        "outputId": "30d364e7-d7cf-40ad-e217-c40e32552759",
        "colab": {
          "base_uri": "https://localhost:8080/"
        }
      },
      "execution_count": null,
      "outputs": [
        {
          "output_type": "stream",
          "name": "stdout",
          "text": []
        }
      ]
    },
    {
      "cell_type": "code",
      "source": [],
      "metadata": {
        "id": "7FjBPnhPL8Pu"
      },
      "execution_count": null,
      "outputs": []
    }
  ]
}